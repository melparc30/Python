{
  "nbformat": 4,
  "nbformat_minor": 0,
  "metadata": {
    "colab": {
      "provenance": []
    },
    "kernelspec": {
      "name": "python3",
      "display_name": "Python 3"
    },
    "language_info": {
      "name": "python"
    }
  },
  "cells": [
    {
      "cell_type": "markdown",
      "source": [
        "### **Moore Machine**"
      ],
      "metadata": {
        "id": "I3L6jQNUPHe6"
      }
    },
    {
      "cell_type": "code",
      "source": [
        "class MooreMachine:\n",
        "    def __init__(self):\n",
        "        #initialize current state\n",
        "        self.current_state = \"q0\"\n",
        "        #initialize the inputs\n",
        "        self.inputs = [\"0\", \"1\"]\n",
        "        #define the transitions and output symbols\n",
        "        self.transitions = {\n",
        "            \"q0\": {\n",
        "                \"0\": (\"q3\", \"0\"),\n",
        "                \"1\": (\"q1\", \"0\"),\n",
        "            },\n",
        "            \"q1\": {\n",
        "                \"0\": (\"q5\", \"1\"),\n",
        "                \"1\": (\"q2\", \"1\"),\n",
        "            },\n",
        "            \"q2\": {\n",
        "                \"0\": (\"q2\", \"0\"),\n",
        "                \"1\": (\"q6\", \"0\"),\n",
        "            },\n",
        "            \"q3\": {\n",
        "                \"0\": (\"q3\", \"0\"),\n",
        "                \"1\": (\"q0\", \"0\"),\n",
        "            },\n",
        "            \"q4\": {\n",
        "                \"0\": (\"q4\", \"1\"),\n",
        "                \"1\": (\"q5\", \"1\"),\n",
        "            },\n",
        "            \"q5\": {\n",
        "                \"0\": (\"q3\", \"0\"),\n",
        "                \"1\": (\"q6\", \"0\"),\n",
        "            },\n",
        "            \"q6\": {\n",
        "                \"0\": (\"q0\", \"1\"),\n",
        "                \"1\": (\"q4\", \"1\"),\n",
        "            }\n",
        "    }\n",
        "\n",
        "\n",
        "    def moore_machine(self, input_string):\n",
        "        #initialize route\n",
        "        route = self.current_state\n",
        "        #initialize outputs\n",
        "        outputs = \"\"\n",
        "        #convert the inputted string\n",
        "        input_string_list = list(input_string)\n",
        "        #check if the inputtted string is not empty or is in the valid inputs\n",
        "        #if not, prompt the user the enter again\n",
        "        while not input_string.strip() or not all(item in self.inputs for item in input_string_list):\n",
        "            input_string = input(\"Invalid input. \\nPlease enter a string: \")\n",
        "            input_string_list = list(input_string)\n",
        "        #define the transitions and output symbols\n",
        "        for symbol in input_string_list:\n",
        "            next_state, output_symbol = self.transitions[self.current_state][symbol]\n",
        "            self.current_state = next_state\n",
        "            outputs += output_symbol\n",
        "            route += f\" -> {next_state}\"\n",
        "        #initialize outputs with the output symbol of the initial state\n",
        "        outputs += self.transitions[self.current_state][input_string_list[0]][1]\n",
        "\n",
        "        #print the route\n",
        "        print(route)\n",
        "        #return the last state\n",
        "        print(f\"\\nThe output of the entered string is {outputs}\")\n",
        "        return"
      ],
      "metadata": {
        "id": "JNLI4pPt8OA4"
      },
      "execution_count": 48,
      "outputs": []
    },
    {
      "cell_type": "markdown",
      "source": [
        "The transition, input, and output symbols are listed in the table below."
      ],
      "metadata": {
        "id": "-B_-c9T6RM4o"
      }
    },
    {
      "cell_type": "markdown",
      "source": [
        "![moore-table-transition.png](data:image/png;base64,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)"
      ],
      "metadata": {
        "id": "RxutWy28hkBa"
      }
    },
    {
      "cell_type": "code",
      "source": [
        "input_string = str(input(\"Enter the string: \"))\n",
        "machine = MooreMachine()\n",
        "machine.moore_machine(input_string)"
      ],
      "metadata": {
        "colab": {
          "base_uri": "https://localhost:8080/"
        },
        "id": "dzBTXonh8V1g",
        "outputId": "4a3bc32d-6e70-45ad-a765-09d11642dd41"
      },
      "execution_count": 50,
      "outputs": [
        {
          "output_type": "stream",
          "name": "stdout",
          "text": [
            "Enter the string: abc\n",
            "Invalid input. \n",
            "Please enter a string: 213\n",
            "Invalid input. \n",
            "Please enter a string: 1000\n",
            "q0 -> q1 -> q5 -> q3 -> q3\n",
            "\n",
            "The output of the entered string is 01000\n"
          ]
        }
      ]
    }
  ]
}